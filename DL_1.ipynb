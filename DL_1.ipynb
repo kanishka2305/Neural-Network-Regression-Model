{
  "nbformat": 4,
  "nbformat_minor": 0,
  "metadata": {
    "colab": {
      "provenance": []
    },
    "kernelspec": {
      "name": "python3",
      "display_name": "Python 3"
    },
    "language_info": {
      "name": "python"
    }
  },
  "cells": [
    {
      "cell_type": "code",
      "execution_count": null,
      "metadata": {
        "id": "z-KWzwgz50ao"
      },
      "outputs": [],
      "source": [
        "import torch\n",
        "import torch.nn as nn\n",
        "import torch.optim as optim\n",
        "import pandas as pd\n",
        "from sklearn.model_selection import train_test_split\n",
        "from sklearn.preprocessing import MinMaxScaler"
      ]
    },
    {
      "cell_type": "code",
      "source": [
        "dataset1 = pd.read_csv('/content/DL-1.csv')\n",
        "X = dataset1[['Input']].values\n",
        "y = dataset1[['Output']].values\n"
      ],
      "metadata": {
        "id": "hcSp_CHqZb_P"
      },
      "execution_count": null,
      "outputs": []
    },
    {
      "cell_type": "code",
      "source": [
        "X_train, X_test, y_train, y_test = train_test_split(X, y, test_size=0.33, random_state=33)"
      ],
      "metadata": {
        "id": "-57FjT5oZjGF"
      },
      "execution_count": null,
      "outputs": []
    },
    {
      "cell_type": "code",
      "source": [
        "scaler = MinMaxScaler()\n",
        "X_train = scaler.fit_transform(X_train)\n",
        "X_test = scaler.transform(X_test)"
      ],
      "metadata": {
        "id": "WShrm6G4ZmHP"
      },
      "execution_count": null,
      "outputs": []
    },
    {
      "cell_type": "code",
      "source": [
        "X_train_tensor = torch.tensor(X_train, dtype=torch.float32)\n",
        "y_train_tensor = torch.tensor(y_train, dtype=torch.float32).view(-1, 1)\n",
        "X_test_tensor = torch.tensor(X_test, dtype=torch.float32)\n",
        "y_test_tensor = torch.tensor(y_test, dtype=torch.float32).view(-1, 1)"
      ],
      "metadata": {
        "id": "Msw-TpQNZo0w"
      },
      "execution_count": null,
      "outputs": []
    },
    {
      "cell_type": "code",
      "source": [
        "# Name: Kanishka\n",
        "# Register Number: 212222230061\n",
        "class NeuralNet(nn.Module):\n",
        "  def __init__(self):\n",
        "        super().__init__()\n",
        "        class NeuralNet(nn.Module):\n",
        "          self.fc1 = nn. Linear (1, 3)\n",
        "          self.fc2 = nn. Linear (3, 2)\n",
        "          self.fc3 = nn. Linear (2, 1)\n",
        "          self.relu = nn. ReLU()\n",
        "          self.history = {'loss': []}\n",
        "  def forward(self, x):\n",
        "    x = self.relu(self.fc1(x))\n",
        "    x = self.relu(self.fc2(x))\n",
        "    x = self. fc3(x)\n",
        "    return x"
      ],
      "metadata": {
        "id": "5Rh4002mZsDQ"
      },
      "execution_count": null,
      "outputs": []
    },
    {
      "cell_type": "code",
      "source": [
        "ai_brain = NeuralNet ()\n",
        "criterion = nn. MSELoss ()\n",
        "optimizer = optim.RMSprop (ai_brain. parameters(), lr=0.001)"
      ],
      "metadata": {
        "id": "3AC9No35Z38K"
      },
      "execution_count": null,
      "outputs": []
    },
    {
      "cell_type": "code",
      "source": [
        "def train_model(ai_brain, X_train, y_train, criterion, optimizer, epochs=2000) :\n",
        "  for epoch in range (epochs) :\n",
        "    optimizer. zero_grad()\n",
        "    loss = criterion(ai_brain(X_train), y_train)\n",
        "    loss. backward()\n",
        "    optimizer.step()\n",
        "    ai_brain. history['loss'] .append(loss.item())\n",
        "    if epoch % 200 == 0:\n",
        "      print(f'Epoch [{epoch}/{epochs}], Loss: {loss.item():.6f}')"
      ],
      "metadata": {
        "id": "dIBM8DXRZ9dl"
      },
      "execution_count": null,
      "outputs": []
    },
    {
      "cell_type": "code",
      "source": [
        "train_model(ai_brain, X_train_tensor, y_train_tensor, criterion, optimizer)"
      ],
      "metadata": {
        "colab": {
          "base_uri": "https://localhost:8080/"
        },
        "id": "aosk9UrQaEiQ",
        "outputId": "b3d57f87-29fd-4880-c286-d128feaf5176"
      },
      "execution_count": null,
      "outputs": [
        {
          "output_type": "stream",
          "name": "stdout",
          "text": [
            "Epoch [0/2000], Loss: 662.495178\n",
            "Epoch [200/2000], Loss: 609.203552\n",
            "Epoch [400/2000], Loss: 547.569885\n",
            "Epoch [600/2000], Loss: 469.261261\n",
            "Epoch [800/2000], Loss: 378.086212\n",
            "Epoch [1000/2000], Loss: 281.512146\n",
            "Epoch [1200/2000], Loss: 190.342453\n",
            "Epoch [1400/2000], Loss: 117.641953\n",
            "Epoch [1600/2000], Loss: 74.860687\n",
            "Epoch [1800/2000], Loss: 60.709873\n"
          ]
        }
      ]
    },
    {
      "cell_type": "code",
      "source": [
        "with torch.no_grad():\n",
        "    test_loss = criterion(ai_brain(X_test_tensor), y_test_tensor)\n",
        "    print(f'Test Loss: {test_loss.item():.6f}')"
      ],
      "metadata": {
        "colab": {
          "base_uri": "https://localhost:8080/"
        },
        "id": "7etmDUBCaKHg",
        "outputId": "2e19782c-1aa5-44aa-f6a0-61ae8cab7343"
      },
      "execution_count": null,
      "outputs": [
        {
          "output_type": "stream",
          "name": "stdout",
          "text": [
            "Test Loss: 69.334061\n"
          ]
        }
      ]
    },
    {
      "cell_type": "code",
      "source": [
        "loss_df = pd.DataFrame(ai_brain.history)"
      ],
      "metadata": {
        "id": "ZmsSogj9aNjO"
      },
      "execution_count": null,
      "outputs": []
    },
    {
      "cell_type": "code",
      "source": [
        "import matplotlib.pyplot as plt\n",
        "loss_df.plot()\n",
        "plt.xlabel(\"Epochs\")\n",
        "plt.ylabel(\"Loss\")\n",
        "plt.title(\"Loss during Training\")\n",
        "plt.show()"
      ],
      "metadata": {
        "colab": {
          "base_uri": "https://localhost:8080/",
          "height": 472
        },
        "id": "lS6T3EZxaO4S",
        "outputId": "c8708c1a-4af6-482e-a488-e8c37f3836f1"
      },
      "execution_count": null,
      "outputs": [
        {
          "output_type": "display_data",
          "data": {
            "text/plain": [
              "<Figure size 640x480 with 1 Axes>"
            ],
            "image/png": "[encoded data removed]"
          },
          "metadata": {}
        }
      ]
    },
    {
      "cell_type": "code",
      "source": [
        "X_n1_1 = torch.tensor([[9]], dtype=torch.float32)\n",
        "prediction = ai_brain(torch.tensor(scaler.transform(X_n1_1), dtype=torch.float32)).item()\n",
        "print(f'Prediction: {prediction}')"
      ],
      "metadata": {
        "id": "kua7tQ4caSWs",
        "outputId": "a283ac10-b113-4db8-9cd5-f7a7c2e6cdaf",
        "colab": {
          "base_uri": "https://localhost:8080/"
        }
      },
      "execution_count": null,
      "outputs": [
        {
          "output_type": "stream",
          "name": "stdout",
          "text": [
            "Prediction: 24.074127197265625\n"
          ]
        }
      ]
    }
  ]
}